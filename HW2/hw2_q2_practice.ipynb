{
 "cells": [
  {
   "cell_type": "code",
   "execution_count": 1,
   "metadata": {},
   "outputs": [],
   "source": [
    "import numpy as np\n",
    "import pandas as pd\n",
    "\n",
    "from MyLogisticRegression import MyLogisticRegression\n",
    "\n",
    "# load dataset\n",
    "data = pd.read_csv('hw2_q2_q4_dataset.csv', header=None).to_numpy()\n",
    "X = data[:,:-1]\n",
    "y = data[:,-1]\n",
    "\n",
    "num_data, num_features = X.shape\n",
    "\n",
    "# shuffle dataset\n",
    "np.random.seed(2023)\n",
    "perm = np.random.permutation(num_data)\n",
    "\n",
    "X = X.tolist()\n",
    "y = y.tolist()\n",
    "\n",
    "X = [X[i] for i in perm]\n",
    "y = [y[i] for i in perm]\n",
    "\n",
    "X = np.array(X)\n",
    "y = np.array(y)\n",
    "\n",
    "# append column of 1s to include intercept\n",
    "X = np.hstack((X, np.ones((num_data, 1))))\n",
    "num_data, num_features = X.shape\n",
    "\n",
    "# Split dataset into train and test sets\n",
    "NUM_TRAIN = int(np.ceil(num_data*0.8))\n",
    "NUM_TEST = num_data - NUM_TRAIN\n",
    "\n",
    "X_train = X[:NUM_TRAIN]\n",
    "X_test = X[NUM_TRAIN:]\n",
    "y_train = y[:NUM_TRAIN]\n",
    "y_test = y[NUM_TRAIN:]"
   ]
  },
  {
   "cell_type": "code",
   "execution_count": 2,
   "metadata": {},
   "outputs": [],
   "source": [
    "from my_cross_val import my_cross_val\n"
   ]
  },
  {
   "cell_type": "code",
   "execution_count": 6,
   "metadata": {},
   "outputs": [],
   "source": [
    "def sigmoid(X, w_t, intercept):\n",
    "    z = np.dot(X, w_t.T) + intercept\n",
    "    return 1.0 / ( 1.0 + np.exp(-z))"
   ]
  },
  {
   "cell_type": "code",
   "execution_count": 3,
   "metadata": {},
   "outputs": [],
   "source": [
    "lr = MyLogisticRegression(d = 10**-6, max_iters = 1000, eta = 0.001)\n",
    "lr.fit(X_train, y_train)\n",
    "w_t = lr.predict(X_test)"
   ]
  },
  {
   "cell_type": "code",
   "execution_count": 8,
   "metadata": {},
   "outputs": [],
   "source": [
    "re = sigmoid(X[:, :-1], w_t, X[:, -1])"
   ]
  },
  {
   "cell_type": "code",
   "execution_count": 4,
   "metadata": {},
   "outputs": [
    {
     "data": {
      "text/plain": [
       "2"
      ]
     },
     "execution_count": 4,
     "metadata": {},
     "output_type": "execute_result"
    }
   ],
   "source": [
    "len([1, 2])"
   ]
  },
  {
   "cell_type": "code",
   "execution_count": 3,
   "metadata": {},
   "outputs": [
    {
     "name": "stdout",
     "output_type": "stream",
     "text": [
      "1e-06\n",
      "[0.015, 0.02, 0.03, 0.01, 0.005, 0.025, 0.01, 0.0, 0.015, 0.01, {'Mean': 0.014, 'sd': 0.0086}]\n",
      "1e-05\n",
      "[0.005, 0.005, 0.01, 0.0, 0.03, 0.005, 0.025, 0.015, 0.0, 0.015, {'Mean': 0.011, 'sd': 0.0097}]\n",
      "0.0001\n",
      "[0.02, 0.005, 0.015, 0.015, 0.01, 0.02, 0.01, 0.015, 0.01, 0.0, {'Mean': 0.012, 'sd': 0.006}]\n",
      "0.001\n",
      "[0.015, 0.015, 0.015, 0.015, 0.005, 0.02, 0.01, 0.005, 0.005, 0.01, {'Mean': 0.0115, 'sd': 0.005}]\n",
      "0.01\n",
      "[0.005, 0.005, 0.01, 0.005, 0.02, 0.01, 0.03, 0.005, 0.01, 0.025, {'Mean': 0.0125, 'sd': 0.0087}]\n"
     ]
    }
   ],
   "source": [
    "eta_vals = [0.000001, 0.00001, 0.0001, 0.001, 0.01]\n",
    "\n",
    "# Logistic Regression\n",
    "for eta_val in eta_vals:\n",
    "    print(eta_val)\n",
    "    # instantiate logistic regression object\n",
    "    lr = MyLogisticRegression(d = 10**-6, max_iters = 1000, eta = eta_val)\n",
    "    # call to CV function to compute error rates for each fold\n",
    "    lr_err_rate = my_cross_val(lr, 'err_rate', X, y)\n",
    "    # print error rates from CV\n",
    "    print(lr_err_rate)\n",
    "    #lr.fit(X_train, y_train)\n",
    "    #print(lr.predict(X_test))"
   ]
  },
  {
   "cell_type": "code",
   "execution_count": 5,
   "metadata": {},
   "outputs": [
    {
     "ename": "TypeError",
     "evalue": "MyLogisticRegression.predict() takes 2 positional arguments but 3 were given",
     "output_type": "error",
     "traceback": [
      "\u001b[0;31m---------------------------------------------------------------------------\u001b[0m",
      "\u001b[0;31mTypeError\u001b[0m                                 Traceback (most recent call last)",
      "Cell \u001b[0;32mIn[5], line 7\u001b[0m\n\u001b[1;32m      5\u001b[0m lr_best\u001b[39m.\u001b[39mfit(X_train, y_train)\n\u001b[1;32m      6\u001b[0m \u001b[39m# predict on test data\u001b[39;00m\n\u001b[0;32m----> 7\u001b[0m pred_lr \u001b[39m=\u001b[39m lr_best\u001b[39m.\u001b[39;49mpredict(X_test, y_test)\n\u001b[1;32m      8\u001b[0m \u001b[39m# compute error rate on test data\u001b[39;00m\n\u001b[1;32m      9\u001b[0m best_lr_err_rate \u001b[39m=\u001b[39m my_cross_val(lr, \u001b[39m'\u001b[39m\u001b[39merr_rate\u001b[39m\u001b[39m'\u001b[39m, X_test, y_test)\n",
      "\u001b[0;31mTypeError\u001b[0m: MyLogisticRegression.predict() takes 2 positional arguments but 3 were given"
     ]
    }
   ],
   "source": [
    "# instantiate logistic regression object for best value of eta\n",
    "best_val = 0.00001\n",
    "lr_best = MyLogisticRegression(d = 10**-6, max_iters = 1000, eta = best_val)\n",
    "# fit model using all training data\n",
    "lr_best.fit(X_train, y_train)\n",
    "# predict on test data\n",
    "pred_lr = lr_best.predict(X_test, y_test)\n",
    "# compute error rate on test data\n",
    "best_lr_err_rate = my_cross_val(lr, 'err_rate', X_test, y_test)\n",
    "# print error rate on test data\n",
    "print(best_lr_err_rate)"
   ]
  },
  {
   "cell_type": "code",
   "execution_count": 6,
   "metadata": {},
   "outputs": [
    {
     "data": {
      "text/plain": [
       "array([ 0.00754765, -0.00458389])"
      ]
     },
     "execution_count": 6,
     "metadata": {},
     "output_type": "execute_result"
    }
   ],
   "source": [
    "np.random.uniform(-0.01, 0.01, size = 2)"
   ]
  }
 ],
 "metadata": {
  "kernelspec": {
   "display_name": "base",
   "language": "python",
   "name": "python3"
  },
  "language_info": {
   "codemirror_mode": {
    "name": "ipython",
    "version": 3
   },
   "file_extension": ".py",
   "mimetype": "text/x-python",
   "name": "python",
   "nbconvert_exporter": "python",
   "pygments_lexer": "ipython3",
   "version": "3.10.9"
  },
  "orig_nbformat": 4,
  "vscode": {
   "interpreter": {
    "hash": "65e26a417bba122887fd29982395cb2c5358c401a000d55be7838ee8c3bbdd30"
   }
  }
 },
 "nbformat": 4,
 "nbformat_minor": 2
}
