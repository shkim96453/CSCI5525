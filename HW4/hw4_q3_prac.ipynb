{
 "cells": [
  {
   "cell_type": "code",
   "execution_count": 1,
   "metadata": {},
   "outputs": [
    {
     "name": "stderr",
     "output_type": "stream",
     "text": [
      "/home/kimsh96453/miniconda3/lib/python3.10/site-packages/tqdm/auto.py:22: TqdmWarning: IProgress not found. Please update jupyter and ipywidgets. See https://ipywidgets.readthedocs.io/en/stable/user_install.html\n",
      "  from .autonotebook import tqdm as notebook_tqdm\n"
     ]
    }
   ],
   "source": [
    "import numpy as np\n",
    "\n",
    "import torch\n",
    "import torch.nn as nn\n",
    "\n",
    "import torchvision\n",
    "from torchvision.transforms import Compose, ToTensor, Normalize\n",
    "\n",
    "from matplotlib import pyplot as plt\n",
    "\n",
    "from MyGenerator import MyGenerator\n",
    "from MyDiscriminator import MyDiscriminator\n",
    "\n",
    "from hw4_utils import load_MNIST\n",
    "\n",
    "np.random.seed(2023)\n",
    "\n",
    "batch_size = 128\n",
    "\n",
    "normalize_vals = (0.5, 0.5)\n",
    "\n",
    "# load MNIST dataset\n",
    "train_dataset, test_dataset, train_loader, test_loader = load_MNIST(batch_size, normalize_vals)"
   ]
  },
  {
   "cell_type": "code",
   "execution_count": 2,
   "metadata": {},
   "outputs": [],
   "source": [
    "import random"
   ]
  },
  {
   "cell_type": "code",
   "execution_count": 17,
   "metadata": {},
   "outputs": [],
   "source": [
    "class MyGAN(nn.Module):\n",
    "    def __init__(self, generator, discriminator):\n",
    "        super(MyGAN, self).__init__()\n",
    "        self.generator = generator\n",
    "        self.discriminator = discriminator\n",
    "\n",
    "    def forward(self, x):\n",
    "        z = torch.randn(128, 128)\n",
    "        fake = self.generator.forward(z)\n",
    "\n",
    "        real_output = self.discriminator.forward(x)\n",
    "        fake_output = self.discriminator.forward(fake)\n",
    "        return fake_output, real_output, fake\n",
    "\n",
    "    def fit(self, train_loader, threshold , max_epochs):\n",
    "        gen_optim = torch.optim.Adam(self.generator.parameters(), lr = 0.0002)\n",
    "        disc_optim = torch.optim.Adam(self.discriminator.parameters(), lr = 0.0002)\n",
    "        d_loss_list = []\n",
    "        g_loss_list = []\n",
    "        epochs = []\n",
    "        fake_imgs = torch.empty((1, 784))\n",
    "        selected_imgs = []\n",
    "        for i in range(max_epochs):\n",
    "            d_loss = 0\n",
    "            g_loss = 0\n",
    "            for j, (real_features, _) in enumerate(train_loader):\n",
    "                real_features, _ = (real_features, _)\n",
    "                real_features = real_features.view(-1, 784)\n",
    "                fake_output, real_output, fake_images = self.forward(real_features) \n",
    "\n",
    "                self.discriminator.zero_grad()\n",
    "                d_loss = nn.BCELoss()(real_output, torch.ones_like(real_output)) + nn.BCELoss()(fake_output, torch.zeros_like(fake_output))\n",
    "                d_loss.backward(retain_graph = True)\n",
    "                disc_optim.step()\n",
    "                d_loss += d_loss.item()\n",
    "\n",
    "                self.generator.zero_grad()\n",
    "                re_fake_output, _, __ = self.forward(real_features)\n",
    "                g_loss = nn.BCELoss()(re_fake_output, torch.ones_like(fake_output))\n",
    "                g_loss.backward()\n",
    "                gen_optim.step()\n",
    "                g_loss += g_loss.item()\n",
    "\n",
    "                sel_img = fake_images\n",
    "            fake_imgs = torch.vstack((fake_imgs, sel_img))\n",
    "            rand_ind = random.sample(range(fake_images.shape[0]), k = 1)\n",
    "            img_from_epoch = fake_imgs[rand_ind]\n",
    "            selected_imgs.append(img_from_epoch)\n",
    "            self.selected_imgs = selected_imgs\n",
    "\n",
    "            d_loss = d_loss.item()\n",
    "            g_loss = g_loss.item()\n",
    "            d_loss_list.append(d_loss)\n",
    "            g_loss_list.append(g_loss)\n",
    "            epochs.append(i+1)\n",
    "            print(i+1, \": \", {\"d_loss\": round(d_loss,4), \"g_loss\": round(g_loss,4)})\n",
    "\n",
    "            if i > 10:\n",
    "                d_last_five = d_loss_list[-5:]\n",
    "                d_last_five_diff = [np.abs(t - s) for s, t in zip(d_last_five, d_last_five[1:])]\n",
    "                g_loss_five = g_loss_list[-5:]\n",
    "                g_last_five_diff = [np.abs(t - s) for s, t in zip(g_loss_five, g_loss_five[1:])]\n",
    "                \n",
    "                if i == 11:\n",
    "                    plot_df = np.column_stack((epochs, d_loss_list, g_loss_list))\n",
    "                    plt.plot(plot_df[:, 0], plot_df[:, 1], color = 'orange')\n",
    "                    plt.plot(plot_df[:, 0], plot_df[:, 2], color = 'blue')\n",
    "                    plt.xticks(np.arange(min(plot_df[:, 0]), max(plot_df[:, 0]), 5.0))\n",
    "                    #plt.yticks(np.arange(min(plot_df[:, 1]), max(plot_df[:, 1])+0.01, 0.01))\n",
    "                    plt.legend(['D', 'G'])\n",
    "                    plt.savefig('imgs/q3/hw4_q3_train_loss')\n",
    "                    break\n",
    "\n",
    "    def img_sel(self):\n",
    "        rand_five = random.sample(range(len(self.selected_imgs)), k = 5)\n",
    "        epochs = [x+1 for x in rand_five]\n",
    "        reshape_di = int(np.sqrt(self.selected_imgs[0].shape[1]))\n",
    "        for i in range(len(rand_five)):\n",
    "            img_to_plot = self.selected_imgs[rand_five[i]]\n",
    "            img_to_plot = img_to_plot.view(-1, reshape_di, reshape_di)\n",
    "            img_to_plot = img_to_plot.detach().numpy()\n",
    "            img_to_plot = np.reshape(img_to_plot, (reshape_di, reshape_di))\n",
    "            plt.imshow(img_to_plot, 'gray')\n",
    "            plt.savefig('imgs/q3/hw4_q3_fake_imgs_epoch ' + str(epochs[i]))"
   ]
  },
  {
   "cell_type": "code",
   "execution_count": 18,
   "metadata": {},
   "outputs": [
    {
     "name": "stdout",
     "output_type": "stream",
     "text": [
      "1 :  {'d_loss': 0.5801, 'g_loss': 7.8659}\n",
      "2 :  {'d_loss': 0.1302, 'g_loss': 8.9581}\n",
      "3 :  {'d_loss': 0.4351, 'g_loss': 7.3891}\n",
      "4 :  {'d_loss': 0.2355, 'g_loss': 7.3498}\n",
      "5 :  {'d_loss': 0.1708, 'g_loss': 9.3744}\n",
      "6 :  {'d_loss': 0.3477, 'g_loss': 7.8745}\n",
      "7 :  {'d_loss': 0.2426, 'g_loss': 7.0833}\n",
      "8 :  {'d_loss': 0.7298, 'g_loss': 5.5585}\n",
      "9 :  {'d_loss': 0.8525, 'g_loss': 4.9946}\n",
      "10 :  {'d_loss': 1.0928, 'g_loss': 4.6186}\n",
      "11 :  {'d_loss': 1.1732, 'g_loss': 4.2285}\n",
      "12 :  {'d_loss': 0.8165, 'g_loss': 4.0442}\n"
     ]
    },
    {
     "data": {
      "image/png": "[encoded data removed]",
      "text/plain": [
       "<Figure size 640x480 with 1 Axes>"
      ]
     },
     "metadata": {},
     "output_type": "display_data"
    }
   ],
   "source": [
    "gen = MyGenerator()\n",
    "disc = MyDiscriminator(input_size = 784)\n",
    "gan = MyGAN(generator=gen, discriminator=disc)\n",
    "\n",
    "gan.fit(train_loader=train_loader, threshold=0.25, max_epochs=50)\n"
   ]
  },
  {
   "cell_type": "code",
   "execution_count": 19,
   "metadata": {},
   "outputs": [
    {
     "ename": "TypeError",
     "evalue": "view(): argument 'size' must be tuple of SymInts, but found element of type numpy.float64 at pos 2",
     "output_type": "error",
     "traceback": [
      "\u001b[0;31m---------------------------------------------------------------------------\u001b[0m",
      "\u001b[0;31mTypeError\u001b[0m                                 Traceback (most recent call last)",
      "Cell \u001b[0;32mIn[19], line 1\u001b[0m\n\u001b[0;32m----> 1\u001b[0m gan\u001b[39m.\u001b[39;49mimg_sel()\n",
      "Cell \u001b[0;32mIn[17], line 80\u001b[0m, in \u001b[0;36mMyGAN.img_sel\u001b[0;34m(self)\u001b[0m\n\u001b[1;32m     78\u001b[0m \u001b[39mfor\u001b[39;00m i \u001b[39min\u001b[39;00m \u001b[39mrange\u001b[39m(\u001b[39mlen\u001b[39m(rand_five)):\n\u001b[1;32m     79\u001b[0m     img_to_plot \u001b[39m=\u001b[39m \u001b[39mself\u001b[39m\u001b[39m.\u001b[39mselected_imgs[rand_five[i]]\n\u001b[0;32m---> 80\u001b[0m     img_to_plot \u001b[39m=\u001b[39m img_to_plot\u001b[39m.\u001b[39;49mview(\u001b[39m-\u001b[39;49m\u001b[39m1\u001b[39;49m, reshape_di, reshape_di)\n\u001b[1;32m     81\u001b[0m     img_to_plot \u001b[39m=\u001b[39m img_to_plot\u001b[39m.\u001b[39mdetach()\u001b[39m.\u001b[39mnumpy()\n\u001b[1;32m     82\u001b[0m     img_to_plot \u001b[39m=\u001b[39m np\u001b[39m.\u001b[39mreshape(img_to_plot, (reshape_di, reshape_di))\n",
      "\u001b[0;31mTypeError\u001b[0m: view(): argument 'size' must be tuple of SymInts, but found element of type numpy.float64 at pos 2"
     ]
    }
   ],
   "source": [
    "gan.img_sel()"
   ]
  },
  {
   "cell_type": "code",
   "execution_count": 13,
   "metadata": {},
   "outputs": [],
   "source": [
    "ind = random.sample(range(len(list)), k = 5)"
   ]
  },
  {
   "cell_type": "code",
   "execution_count": 16,
   "metadata": {},
   "outputs": [],
   "source": [
    "t = list[0]"
   ]
  },
  {
   "cell_type": "code",
   "execution_count": 23,
   "metadata": {},
   "outputs": [],
   "source": [
    "d = int(np.sqrt(t.shape[1]))"
   ]
  },
  {
   "cell_type": "code",
   "execution_count": 24,
   "metadata": {},
   "outputs": [],
   "source": [
    "t = list[1]\n",
    "t = t.view(-1, 28, 28)\n",
    "t = t.detach().numpy()\n",
    "t = np.reshape(t, (d, d))"
   ]
  },
  {
   "cell_type": "code",
   "execution_count": 12,
   "metadata": {},
   "outputs": [
    {
     "data": {
      "text/plain": [
       "[2, 6, 11, 8, 5]"
      ]
     },
     "execution_count": 12,
     "metadata": {},
     "output_type": "execute_result"
    }
   ],
   "source": []
  },
  {
   "cell_type": "code",
   "execution_count": 10,
   "metadata": {},
   "outputs": [
    {
     "data": {
      "image/png": "[encoded data removed]",
      "text/plain": [
       "<Figure size 640x480 with 1 Axes>"
      ]
     },
     "metadata": {},
     "output_type": "display_data"
    }
   ],
   "source": [
    "plt.imshow(t)\n",
    "plt.show()"
   ]
  },
  {
   "cell_type": "code",
   "execution_count": 11,
   "metadata": {},
   "outputs": [
    {
     "name": "stdout",
     "output_type": "stream",
     "text": [
      "torch.Size([13, 784])\n"
     ]
    }
   ],
   "source": [
    "ind, five_img = gan.img_sel()\n"
   ]
  },
  {
   "cell_type": "code",
   "execution_count": 15,
   "metadata": {},
   "outputs": [],
   "source": [
    "five_img = five_img.view(-1, 28, 28)\n",
    "five_img = five_img.detach().numpy()"
   ]
  },
  {
   "cell_type": "code",
   "execution_count": 18,
   "metadata": {},
   "outputs": [
    {
     "data": {
      "image/png": "[encoded data removed]",
      "text/plain": [
       "<Figure size 640x480 with 1 Axes>"
      ]
     },
     "metadata": {},
     "output_type": "display_data"
    }
   ],
   "source": [
    "plt.imshow(five_img[4], 'gray')\n",
    "plt.show()"
   ]
  },
  {
   "cell_type": "code",
   "execution_count": 5,
   "metadata": {},
   "outputs": [],
   "source": [
    "gen = MyGenerator()\n",
    "disc = MyDiscriminator(input_size=784)"
   ]
  },
  {
   "cell_type": "code",
   "execution_count": 6,
   "metadata": {},
   "outputs": [],
   "source": [
    "fake = gen.forward(z)\n",
    "real = disc.forward(real_features)\n",
    "fake_output = disc.forward(fake)"
   ]
  },
  {
   "cell_type": "code",
   "execution_count": 7,
   "metadata": {},
   "outputs": [],
   "source": [
    "d_loss = nn.BCELoss()(real, torch.ones_like(real)) + nn.BCELoss()(fake_output, torch.zeros_like(fake_output))\n",
    "g_loss = nn.BCELoss()(fake_output, torch.ones_like(fake_output))"
   ]
  },
  {
   "cell_type": "code",
   "execution_count": 8,
   "metadata": {},
   "outputs": [],
   "source": [
    "gen_optim = torch.optim.Adam(gen.parameters(), lr = 0.0002)\n",
    "disc_optim = torch.optim.Adam(disc.parameters(), lr = 0.0002)"
   ]
  },
  {
   "cell_type": "code",
   "execution_count": 25,
   "metadata": {},
   "outputs": [],
   "source": [
    "def forward(x):\n",
    "    z = torch.randn(128, 128)\n",
    "    fake = gen.forward(z)\n",
    "\n",
    "    real_output = disc.forward(x)\n",
    "    fake_output = disc.forward(fake)\n",
    "    return fake_output, real_output, fake"
   ]
  },
  {
   "cell_type": "code",
   "execution_count": 15,
   "metadata": {},
   "outputs": [],
   "source": [
    "l = [1.6519, 1.8667, 2.0306, 1.9813,1.7049]\n",
    "diff = [np.abs(t - s) for s, t in zip(l, l[1:])]"
   ]
  },
  {
   "cell_type": "code",
   "execution_count": 26,
   "metadata": {},
   "outputs": [],
   "source": [
    "fo, ro, f = forward(real_features)"
   ]
  },
  {
   "cell_type": "code",
   "execution_count": 29,
   "metadata": {},
   "outputs": [],
   "source": [
    "sel_f = f[ind]"
   ]
  },
  {
   "cell_type": "code",
   "execution_count": 30,
   "metadata": {},
   "outputs": [],
   "source": [
    "et = fake_imgs = torch.empty((1, 784))"
   ]
  },
  {
   "cell_type": "code",
   "execution_count": 32,
   "metadata": {},
   "outputs": [],
   "source": [
    "et = torch.vstack((et, sel_f))"
   ]
  },
  {
   "cell_type": "code",
   "execution_count": 45,
   "metadata": {},
   "outputs": [],
   "source": [
    "et = torch.squeeze(et)"
   ]
  },
  {
   "cell_type": "code",
   "execution_count": 33,
   "metadata": {},
   "outputs": [],
   "source": [
    "etnp = et.detach().numpy()"
   ]
  },
  {
   "cell_type": "code",
   "execution_count": 38,
   "metadata": {},
   "outputs": [
    {
     "ename": "TypeError",
     "evalue": "ToTensor.__init__() takes 1 positional argument but 2 were given",
     "output_type": "error",
     "traceback": [
      "\u001b[0;31m---------------------------------------------------------------------------\u001b[0m",
      "\u001b[0;31mTypeError\u001b[0m                                 Traceback (most recent call last)",
      "Cell \u001b[0;32mIn[38], line 1\u001b[0m\n\u001b[0;32m----> 1\u001b[0m d \u001b[39m=\u001b[39m torchvision\u001b[39m.\u001b[39;49mtransforms\u001b[39m.\u001b[39;49mToTensor(etnp[\u001b[39m1\u001b[39;49m])\n",
      "\u001b[0;31mTypeError\u001b[0m: ToTensor.__init__() takes 1 positional argument but 2 were given"
     ]
    }
   ],
   "source": [
    "d = torchvision.transforms.ToTensor(etnp[1])"
   ]
  },
  {
   "cell_type": "code",
   "execution_count": 46,
   "metadata": {},
   "outputs": [],
   "source": [
    "d = np.reshape(d, (28, 28))"
   ]
  },
  {
   "cell_type": "code",
   "execution_count": 47,
   "metadata": {},
   "outputs": [
    {
     "data": {
      "image/png": "[encoded data removed]",
      "text/plain": [
       "<Figure size 640x480 with 1 Axes>"
      ]
     },
     "metadata": {},
     "output_type": "display_data"
    }
   ],
   "source": [
    "plt.imshow(d, 'gray')\n",
    "plt.show()"
   ]
  }
 ],
 "metadata": {
  "kernelspec": {
   "display_name": "base",
   "language": "python",
   "name": "python3"
  },
  "language_info": {
   "codemirror_mode": {
    "name": "ipython",
    "version": 3
   },
   "file_extension": ".py",
   "mimetype": "text/x-python",
   "name": "python",
   "nbconvert_exporter": "python",
   "pygments_lexer": "ipython3",
   "version": "3.10.9"
  },
  "orig_nbformat": 4,
  "vscode": {
   "interpreter": {
    "hash": "65e26a417bba122887fd29982395cb2c5358c401a000d55be7838ee8c3bbdd30"
   }
  }
 },
 "nbformat": 4,
 "nbformat_minor": 2
}
