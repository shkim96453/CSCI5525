{
 "cells": [
  {
   "cell_type": "code",
   "execution_count": 1,
   "metadata": {},
   "outputs": [
    {
     "name": "stderr",
     "output_type": "stream",
     "text": [
      "/home/kimsh96453/miniconda3/lib/python3.10/site-packages/tqdm/auto.py:22: TqdmWarning: IProgress not found. Please update jupyter and ipywidgets. See https://ipywidgets.readthedocs.io/en/stable/user_install.html\n",
      "  from .autonotebook import tqdm as notebook_tqdm\n"
     ]
    }
   ],
   "source": [
    "import numpy as np\n",
    "\n",
    "from matplotlib import pyplot as plt\n",
    "\n",
    "from MyPCA import MyPCA\n",
    "\n",
    "from hw4_utils import load_MNIST, convert_data_to_numpy, plot_points\n",
    "\n",
    "np.random.seed(2023)\n",
    "\n",
    "normalize_vals = (0.1307, 0.3081)\n",
    "\n",
    "batch_size = 100\n",
    "\n",
    "# load MNIST dataset\n",
    "train_dataset, test_dataset, train_loader, test_loader = load_MNIST(batch_size, normalize_vals)\n",
    "\n",
    "# convert to numpy\n",
    "X, y = convert_data_to_numpy(train_dataset)"
   ]
  },
  {
   "cell_type": "code",
   "execution_count": 2,
   "metadata": {},
   "outputs": [],
   "source": [
    "pca = MyPCA(num_reduced_dims=2)\n",
    "d = pca.fit(X = X)\n",
    "new_coord = pca.project(x = X)"
   ]
  }
 ],
 "metadata": {
  "kernelspec": {
   "display_name": "base",
   "language": "python",
   "name": "python3"
  },
  "language_info": {
   "codemirror_mode": {
    "name": "ipython",
    "version": 3
   },
   "file_extension": ".py",
   "mimetype": "text/x-python",
   "name": "python",
   "nbconvert_exporter": "python",
   "pygments_lexer": "ipython3",
   "version": "3.10.9"
  },
  "orig_nbformat": 4,
  "vscode": {
   "interpreter": {
    "hash": "65e26a417bba122887fd29982395cb2c5358c401a000d55be7838ee8c3bbdd30"
   }
  }
 },
 "nbformat": 4,
 "nbformat_minor": 2
}
