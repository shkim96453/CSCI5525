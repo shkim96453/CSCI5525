{
 "cells": [
  {
   "cell_type": "code",
   "execution_count": 1,
   "metadata": {},
   "outputs": [],
   "source": [
    "import numpy as np\n",
    "import pandas as pd"
   ]
  },
  {
   "cell_type": "code",
   "execution_count": 28,
   "metadata": {},
   "outputs": [],
   "source": [
    "data = pd.read_csv(\"/media/kimsh96453/SANDISK 128/23 Spring/CSCI5525/HW0/data.csv\", index_col=False)\n",
    "\n",
    "x = data.loc[:, \"total_bill\"]\n",
    "y = data.loc[:, \"tip\"]\n",
    "x = np.array(x)\n",
    "y = np.array(y)\n",
    "lmbda = 1"
   ]
  },
  {
   "cell_type": "code",
   "execution_count": 29,
   "metadata": {},
   "outputs": [
    {
     "name": "stdout",
     "output_type": "stream",
     "text": [
      "[[0.0592415  0.16054159 0.16658734 0.13978041 0.14680765 0.18623962\n",
      "  0.22805017]\n",
      " [0.05944673 0.15905393 0.16658734 0.13978041 0.14680765 0.18623962\n",
      "  0.22805017]\n",
      " [0.05944673 0.16054159 0.1662108  0.13978041 0.14680765 0.18623962\n",
      "  0.22805017]\n",
      " [0.05944673 0.16054159 0.16658734 0.13953157 0.14680765 0.18623962\n",
      "  0.22805017]\n",
      " [0.05944673 0.16054159 0.16658734 0.13978041 0.14656526 0.18623962\n",
      "  0.22805017]\n",
      " [0.05944673 0.16054159 0.16658734 0.13978041 0.14680765 0.18594889\n",
      "  0.22805017]\n",
      " [0.05944673 0.16054159 0.16658734 0.13978041 0.14680765 0.18623962\n",
      "  0.22512318]]\n"
     ]
    }
   ],
   "source": [
    "w = np.transpose(x)*y /(np.transpose(x)*x + lmbda*np.identity(np.prod(x.shape)))\n",
    "print(w)"
   ]
  },
  {
   "cell_type": "code",
   "execution_count": 26,
   "metadata": {},
   "outputs": [
    {
     "name": "stdout",
     "output_type": "stream",
     "text": [
      "[288.6601 106.9156 441.4201 560.7424 604.6681 639.5841  76.9129]\n"
     ]
    }
   ],
   "source": [
    "print(x*np.transpose(x))"
   ]
  }
 ],
 "metadata": {
  "kernelspec": {
   "display_name": "Python 3",
   "language": "python",
   "name": "python3"
  },
  "language_info": {
   "codemirror_mode": {
    "name": "ipython",
    "version": 3
   },
   "file_extension": ".py",
   "mimetype": "text/x-python",
   "name": "python",
   "nbconvert_exporter": "python",
   "pygments_lexer": "ipython3",
   "version": "3.10.4 (main, Jun 29 2022, 12:14:53) [GCC 11.2.0]"
  },
  "orig_nbformat": 4,
  "vscode": {
   "interpreter": {
    "hash": "916dbcbb3f70747c44a77c7bcd40155683ae19c65e1c03b4aa3499c5328201f1"
   }
  }
 },
 "nbformat": 4,
 "nbformat_minor": 2
}
