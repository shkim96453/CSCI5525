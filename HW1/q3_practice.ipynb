{
 "cells": [
  {
   "cell_type": "code",
   "execution_count": 1,
   "metadata": {},
   "outputs": [],
   "source": [
    "import numpy as np\n",
    "from sklearn.datasets import fetch_california_housing\n",
    "from sklearn.linear_model import Lasso\n",
    "import numpy as np\n",
    "from my_cross_val import my_cross_val\n"
   ]
  },
  {
   "cell_type": "code",
   "execution_count": 2,
   "metadata": {},
   "outputs": [],
   "source": [
    "class MyRidgeRegression():\n",
    "\n",
    "    def __init__(self, lambda_val):\n",
    "        self.lambda_val = lambda_val\n",
    "\n",
    "    def fit(self, X, y):\n",
    "        self.w = np.linalg.inv(X.transpose()@X + lambda_val*np.identity(X.shape[1]))@X.transpose()@y\n",
    "\n",
    "    def predict(self, X):\n",
    "        y_hat = X@self.w\n",
    "        return y_hat\n"
   ]
  },
  {
   "cell_type": "code",
   "execution_count": 3,
   "metadata": {},
   "outputs": [],
   "source": [
    "# load dataset\n",
    "X, y = fetch_california_housing(return_X_y=True)\n",
    "\n",
    "num_data, num_features = X.shape\n",
    "\n",
    "# shuffle dataset\n",
    "np.random.seed(2023)\n",
    "perm = np.random.permutation(num_data)\n",
    "\n",
    "X = X.tolist()\n",
    "y = y.tolist()\n",
    "\n",
    "X = [X[i] for i in perm]\n",
    "y = [y[i] for i in perm]\n",
    "\n",
    "X = np.array(X)\n",
    "y = np.array(y)\n",
    "\n",
    "# append column of 1s to include intercept\n",
    "X = np.hstack((X, np.ones((num_data, 1))))\n"
   ]
  },
  {
   "cell_type": "code",
   "execution_count": 4,
   "metadata": {},
   "outputs": [],
   "source": [
    "# Split dataset into train and test sets\n",
    "NUM_TRAIN = int(np.ceil(num_data*0.8))\n",
    "NUM_TEST = num_data - NUM_TRAIN\n",
    "\n",
    "X_train = X[:NUM_TRAIN]\n",
    "X_test = X[NUM_TRAIN:]\n",
    "y_train = y[:NUM_TRAIN]\n",
    "y_test = y[NUM_TRAIN:]"
   ]
  },
  {
   "cell_type": "code",
   "execution_count": 5,
   "metadata": {},
   "outputs": [],
   "source": [
    "lambda_vals = [0.01, 0.1, 1, 10, 100]"
   ]
  },
  {
   "cell_type": "code",
   "execution_count": 7,
   "metadata": {},
   "outputs": [
    {
     "name": "stdout",
     "output_type": "stream",
     "text": [
      "0.01\n",
      "Ridge Regression MSE by Fold [0.4863, 0.6298, 0.515, 0.5169, 0.5021, 0.5222, 0.4946, 0.5448, 0.607, 0.5003, 0.5319, 0.0462]\n",
      "Lasso Regression MSE by Fold [0.5289, 0.5237, 0.5155, 0.5114, 0.5595, 0.5127, 0.5622, 0.5131, 0.4981, 0.5534, 0.5278, 0.0214]\n",
      "0.1\n",
      "Ridge Regression MSE by Fold [0.5344, 0.5563, 0.4942, 0.5501, 0.5003, 0.4496, 0.5704, 0.5832, 0.5745, 0.5196, 0.5333, 0.0402]\n",
      "Lasso Regression MSE by Fold [0.5828, 0.4608, 0.5458, 0.5429, 0.5133, 0.5304, 0.5586, 0.5101, 0.5042, 0.5372, 0.5286, 0.0319]\n",
      "1\n",
      "Ridge Regression MSE by Fold [0.5743, 0.5746, 0.501, 0.5479, 0.5551, 0.5903, 0.5197, 0.5802, 0.5246, 0.4926, 0.546, 0.033]\n",
      "Lasso Regression MSE by Fold [0.5618, 0.5457, 0.5489, 0.5198, 0.5987, 0.6027, 0.5311, 0.5233, 0.561, 0.4974, 0.549, 0.0319]\n",
      "10\n",
      "Ridge Regression MSE by Fold [0.6301, 0.5592, 0.6333, 0.4951, 0.592, 0.5956, 0.6191, 0.627, 0.5577, 0.6051, 0.5914, 0.0412]\n",
      "Lasso Regression MSE by Fold [0.5773, 0.6258, 0.6101, 0.568, 0.5844, 0.5768, 0.5884, 0.5895, 0.5356, 0.6555, 0.5911, 0.0313]\n",
      "100\n",
      "Ridge Regression MSE by Fold [0.596, 0.6463, 0.5886, 0.6352, 0.5822, 0.6524, 0.5732, 0.628, 0.5981, 0.5708, 0.6071, 0.0291]\n",
      "Lasso Regression MSE by Fold [0.6001, 0.6663, 0.6003, 0.6283, 0.5663, 0.5614, 0.6099, 0.5895, 0.6239, 0.633, 0.6079, 0.0301]\n"
     ]
    }
   ],
   "source": [
    "for lambda_val in lambda_vals:\n",
    "    print(lambda_val)\n",
    "    # instantiate ridge regression object\n",
    "    rr_model = MyRidgeRegression(lambda_val)\n",
    "    # call to your CV function to compute mse for each fold\n",
    "    rr_mse_vals = my_cross_val(rr_model, 'mse', X, y)\n",
    "    # print mse from CV\n",
    "    print(\"Ridge Regression MSE by Fold\", rr_mse_vals)\n",
    "    # instantiate lasso object\n",
    "    ls_model = Lasso(lambda_val)\n",
    "    # call to your CV function to compute mse for each fold\n",
    "    ls_mse_vals = my_cross_val(rr_model, 'mse', X, y)\n",
    "    # print mse from CV\n",
    "    print(\"Lasso Regression MSE by Fold\", ls_mse_vals)"
   ]
  },
  {
   "cell_type": "code",
   "execution_count": 8,
   "metadata": {},
   "outputs": [
    {
     "name": "stdout",
     "output_type": "stream",
     "text": [
      "Ridge Regression MSE by fold, Best Lambda on Test Set [0.5135, 0.5808, 0.5518, 0.664, 0.5584, 0.542, 0.5663, 0.4881, 0.544, 0.5902, 0.5599, 0.0449]\n"
     ]
    }
   ],
   "source": [
    "rr_model_best = MyRidgeRegression(0.01)\n",
    "# fit models using all training data\n",
    "rr_model_best.fit(X_train, y_train)\n",
    "# predict on test data\n",
    "rr_model_best.predict(X_test)\n",
    "# compute mse on test data\n",
    "best_rr_mse_vals = my_cross_val(rr_model_best,'mse', X_test, y_test)\n",
    "# print mse on test data\n",
    "print(\"Ridge Regression MSE by fold, Best Lambda on Test Set\", best_rr_mse_vals)"
   ]
  }
 ],
 "metadata": {
  "kernelspec": {
   "display_name": "base",
   "language": "python",
   "name": "python3"
  },
  "language_info": {
   "codemirror_mode": {
    "name": "ipython",
    "version": 3
   },
   "file_extension": ".py",
   "mimetype": "text/x-python",
   "name": "python",
   "nbconvert_exporter": "python",
   "pygments_lexer": "ipython3",
   "version": "3.10.9"
  },
  "orig_nbformat": 4,
  "vscode": {
   "interpreter": {
    "hash": "65e26a417bba122887fd29982395cb2c5358c401a000d55be7838ee8c3bbdd30"
   }
  }
 },
 "nbformat": 4,
 "nbformat_minor": 2
}
